{
 "cells": [
  {
   "cell_type": "markdown",
   "metadata": {},
   "source": [
    "# Practica 2 Bloque 3\n",
    "### Lara Ocón Madrid - 202115710\n",
    "Creación de un archivo XML donde se guarde el reporte de tipologia de datos de la Practica de pizzas del bloque 2 y la recomendación propuesta."
   ]
  },
  {
   "cell_type": "code",
   "execution_count": 2,
   "metadata": {},
   "outputs": [],
   "source": [
    "import pandas as pd\n",
    "import xml.etree.ElementTree as ET"
   ]
  },
  {
   "cell_type": "code",
   "execution_count": 3,
   "metadata": {},
   "outputs": [],
   "source": [
    "nombres_csv = ['pizzas', 'pizza_types', 'data_dictionary', 'order_details_2015', 'order_details_2016', 'orders_2015', 'orders_2016']"
   ]
  },
  {
   "cell_type": "code",
   "execution_count": 4,
   "metadata": {},
   "outputs": [],
   "source": [
    "# cargamos los dataframes\n",
    "df_pizzas = pd.read_csv('ficheros/pizzas.csv')\n",
    "df_pizza_types = pd.read_csv('ficheros/pizza_types.csv')\n",
    "df_data_dictionary = pd.read_csv('ficheros/data_dictionary.csv')\n",
    "df_order_details_2015 = pd.read_csv('ficheros/order_details_2015.csv')\n",
    "df_order_details_2016 = pd.read_csv('ficheros/order_details_2016.csv', delimiter=';')\n",
    "df_orders_2015 = pd.read_csv('ficheros/orders_2015.csv')\n",
    "df_orders_2016 = pd.read_csv('ficheros/orders_2016.csv', delimiter=';')\n"
   ]
  },
  {
   "cell_type": "code",
   "execution_count": 5,
   "metadata": {},
   "outputs": [],
   "source": [
    "dfs = [df_pizzas, df_pizza_types, df_data_dictionary, df_order_details_2015, df_order_details_2016, df_orders_2015, df_orders_2016]"
   ]
  },
  {
   "cell_type": "code",
   "execution_count": 6,
   "metadata": {},
   "outputs": [],
   "source": [
    "# creamos el arbol\n",
    "root = ET.Element('root')\n",
    "arbol = ET.ElementTree(root)\n",
    "datos = {}"
   ]
  },
  {
   "cell_type": "code",
   "execution_count": 7,
   "metadata": {},
   "outputs": [],
   "source": [
    "i = 0\n",
    "for nombre in nombres_csv:\n",
    "    datos[nombre] = ET.SubElement(root, \"csv\")\n",
    "    # mostramos el nombre del csv\n",
    "    ET.SubElement(datos[nombre], \"nombre\").text = nombre\n",
    "    # mostramos el tamaño del dataframe\n",
    "    ET.SubElement(datos[nombre], 'size').text = str(dfs[i].shape)\n",
    "    # contamos el numero de nans por columnas\n",
    "    columnas = {}\n",
    "    for columna in dfs[i].columns:\n",
    "        columnas[columna] = ET.SubElement(datos[nombre], \"columna\")\n",
    "        nans = dfs[i][columna].isna().sum()\n",
    "        tipo = dfs[i][columna].dtype\n",
    "        ET.SubElement(columnas[columna], \"nombre\").text = columna\n",
    "        ET.SubElement(columnas[columna], 'nans').text = str(nans)\n",
    "        ET.SubElement(columnas[columna], 'tipo').text = str(tipo)\n",
    "    \n",
    "\n",
    "    i += 1\n",
    "\n",
    "arbol.write('reporte_tipologia_datos.xml')"
   ]
  }
 ],
 "metadata": {
  "kernelspec": {
   "display_name": "Python 3.9.7 64-bit",
   "language": "python",
   "name": "python3"
  },
  "language_info": {
   "codemirror_mode": {
    "name": "ipython",
    "version": 3
   },
   "file_extension": ".py",
   "mimetype": "text/x-python",
   "name": "python",
   "nbconvert_exporter": "python",
   "pygments_lexer": "ipython3",
   "version": "3.9.7"
  },
  "orig_nbformat": 4,
  "vscode": {
   "interpreter": {
    "hash": "aee8b7b246df8f9039afb4144a1f6fd8d2ca17a180786b69acc140d282b71a49"
   }
  }
 },
 "nbformat": 4,
 "nbformat_minor": 2
}
